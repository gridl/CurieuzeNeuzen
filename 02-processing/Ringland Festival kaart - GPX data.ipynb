{
 "cells": [
  {
   "cell_type": "markdown",
   "metadata": {},
   "source": [
    "# Ringland Festival kaart - GPX data"
   ]
  },
  {
   "cell_type": "code",
   "execution_count": 13,
   "metadata": {
    "collapsed": true
   },
   "outputs": [],
   "source": [
    "import pandas as pd\n",
    "import geopandas\n",
    "from shapely.geometry import Point"
   ]
  },
  {
   "cell_type": "code",
   "execution_count": 5,
   "metadata": {
    "collapsed": false
   },
   "outputs": [],
   "source": [
    "df = pd.read_csv('../curieuzeneuzen_20160613.csv', sep=';')"
   ]
  },
  {
   "cell_type": "code",
   "execution_count": 9,
   "metadata": {
    "collapsed": false
   },
   "outputs": [],
   "source": [
    "df['no2'] = np.random.uniform(20,80, size=len(df))"
   ]
  },
  {
   "cell_type": "code",
   "execution_count": 60,
   "metadata": {
    "collapsed": false
   },
   "outputs": [],
   "source": [
    "gdf = geopandas.GeoDataFrame(df[['no2', 'Returned']], geometry=df[['Lon', 'Lat', 'no2']].apply(lambda x: Point(x['Lon'], x['Lat']), axis=1))"
   ]
  },
  {
   "cell_type": "code",
   "execution_count": 56,
   "metadata": {
    "collapsed": true
   },
   "outputs": [],
   "source": [
    "def to_gpx(gdf, fpath=None):\n",
    "    \"\"\"\n",
    "    Only for Points for now\n",
    "    \"\"\"\n",
    "    \n",
    "    import gpxpy.gpx\n",
    "    \n",
    "    geoms = gdf.geometry\n",
    "    \n",
    "    gpx = gpxpy.gpx.GPX()\n",
    "    wps = []\n",
    "    \n",
    "    for p in geoms:\n",
    "        wps.append(gpxpy.gpx.GPXWaypoint(latitude=p.y, longitude=p.x))\n",
    "    \n",
    "    gpx.waypoints.extend(wps)\n",
    "    \n",
    "    if fpath is None:\n",
    "        return gpx.to_xml()\n",
    "    else:\n",
    "        with open(fpath, 'w') as f:\n",
    "            f.write(gpx.to_xml())"
   ]
  },
  {
   "cell_type": "code",
   "execution_count": 62,
   "metadata": {
    "collapsed": true
   },
   "outputs": [],
   "source": [
    "subset = gdf[gdf['Returned']==1]"
   ]
  },
  {
   "cell_type": "code",
   "execution_count": 63,
   "metadata": {
    "collapsed": false
   },
   "outputs": [],
   "source": [
    "to_gpx(subset, 'test2.gpx')"
   ]
  },
  {
   "cell_type": "code",
   "execution_count": null,
   "metadata": {
    "collapsed": true
   },
   "outputs": [],
   "source": []
  },
  {
   "cell_type": "code",
   "execution_count": null,
   "metadata": {
    "collapsed": true
   },
   "outputs": [],
   "source": []
  }
 ],
 "metadata": {
  "kernelspec": {
   "display_name": "Python 3 (geo)",
   "language": "python",
   "name": "geo"
  },
  "language_info": {
   "codemirror_mode": {
    "name": "ipython",
    "version": 3
   },
   "file_extension": ".py",
   "mimetype": "text/x-python",
   "name": "python",
   "nbconvert_exporter": "python",
   "pygments_lexer": "ipython3",
   "version": "3.4.4"
  }
 },
 "nbformat": 4,
 "nbformat_minor": 0
}
