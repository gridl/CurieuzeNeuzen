{
 "cells": [
  {
   "cell_type": "markdown",
   "metadata": {},
   "source": [
    "# Ringland Festival kaart - GPX data"
   ]
  },
  {
   "cell_type": "code",
   "execution_count": 1,
   "metadata": {
    "collapsed": true
   },
   "outputs": [],
   "source": [
    "import pandas as pd\n",
    "import geopandas\n",
    "from shapely.geometry import Point"
   ]
  },
  {
   "cell_type": "code",
   "execution_count": 2,
   "metadata": {
    "collapsed": false
   },
   "outputs": [],
   "source": [
    "df = pd.read_csv('../01-data/processed/curieuzeneuzen-results.csv')"
   ]
  },
  {
   "cell_type": "code",
   "execution_count": 3,
   "metadata": {
    "collapsed": false
   },
   "outputs": [
    {
     "data": {
      "text/html": [
       "<div>\n",
       "<table border=\"1\" class=\"dataframe\">\n",
       "  <thead>\n",
       "    <tr style=\"text-align: right;\">\n",
       "      <th></th>\n",
       "      <th>SetId</th>\n",
       "      <th>mean</th>\n",
       "      <th>span</th>\n",
       "      <th>Lat</th>\n",
       "      <th>Lon</th>\n",
       "    </tr>\n",
       "  </thead>\n",
       "  <tbody>\n",
       "    <tr>\n",
       "      <th>0</th>\n",
       "      <td>1</td>\n",
       "      <td>54.637056</td>\n",
       "      <td>0.888894</td>\n",
       "      <td>51.193319</td>\n",
       "      <td>4.463377</td>\n",
       "    </tr>\n",
       "    <tr>\n",
       "      <th>1</th>\n",
       "      <td>2</td>\n",
       "      <td>38.844720</td>\n",
       "      <td>3.632833</td>\n",
       "      <td>51.205845</td>\n",
       "      <td>4.407636</td>\n",
       "    </tr>\n",
       "    <tr>\n",
       "      <th>2</th>\n",
       "      <td>3</td>\n",
       "      <td>17.600972</td>\n",
       "      <td>0.930665</td>\n",
       "      <td>51.220553</td>\n",
       "      <td>4.413698</td>\n",
       "    </tr>\n",
       "    <tr>\n",
       "      <th>3</th>\n",
       "      <td>4</td>\n",
       "      <td>45.431083</td>\n",
       "      <td>0.342342</td>\n",
       "      <td>51.213435</td>\n",
       "      <td>4.393113</td>\n",
       "    </tr>\n",
       "    <tr>\n",
       "      <th>4</th>\n",
       "      <td>5</td>\n",
       "      <td>29.334421</td>\n",
       "      <td>7.797653</td>\n",
       "      <td>51.201084</td>\n",
       "      <td>4.446258</td>\n",
       "    </tr>\n",
       "  </tbody>\n",
       "</table>\n",
       "</div>"
      ],
      "text/plain": [
       "   SetId       mean      span        Lat       Lon\n",
       "0      1  54.637056  0.888894  51.193319  4.463377\n",
       "1      2  38.844720  3.632833  51.205845  4.407636\n",
       "2      3  17.600972  0.930665  51.220553  4.413698\n",
       "3      4  45.431083  0.342342  51.213435  4.393113\n",
       "4      5  29.334421  7.797653  51.201084  4.446258"
      ]
     },
     "execution_count": 3,
     "metadata": {},
     "output_type": "execute_result"
    }
   ],
   "source": [
    "df.head()"
   ]
  },
  {
   "cell_type": "code",
   "execution_count": 4,
   "metadata": {
    "collapsed": false
   },
   "outputs": [],
   "source": [
    "gdf = geopandas.GeoDataFrame(df[['mean']], geometry=df[['Lon', 'Lat']].apply(lambda x: Point(x['Lon'], x['Lat']), axis=1))"
   ]
  },
  {
   "cell_type": "code",
   "execution_count": 5,
   "metadata": {
    "collapsed": false
   },
   "outputs": [
    {
     "data": {
      "text/html": [
       "<div>\n",
       "<table border=\"1\" class=\"dataframe\">\n",
       "  <thead>\n",
       "    <tr style=\"text-align: right;\">\n",
       "      <th></th>\n",
       "      <th>mean</th>\n",
       "      <th>geometry</th>\n",
       "    </tr>\n",
       "  </thead>\n",
       "  <tbody>\n",
       "    <tr>\n",
       "      <th>0</th>\n",
       "      <td>54.637056</td>\n",
       "      <td>POINT (4.46337694 51.19331943)</td>\n",
       "    </tr>\n",
       "    <tr>\n",
       "      <th>1</th>\n",
       "      <td>38.844720</td>\n",
       "      <td>POINT (4.40763586 51.20584495)</td>\n",
       "    </tr>\n",
       "    <tr>\n",
       "      <th>2</th>\n",
       "      <td>17.600972</td>\n",
       "      <td>POINT (4.4136976 51.22055294)</td>\n",
       "    </tr>\n",
       "    <tr>\n",
       "      <th>3</th>\n",
       "      <td>45.431083</td>\n",
       "      <td>POINT (4.3931128 51.2134349)</td>\n",
       "    </tr>\n",
       "    <tr>\n",
       "      <th>4</th>\n",
       "      <td>29.334421</td>\n",
       "      <td>POINT (4.44625811 51.20108353)</td>\n",
       "    </tr>\n",
       "  </tbody>\n",
       "</table>\n",
       "</div>"
      ],
      "text/plain": [
       "        mean                        geometry\n",
       "0  54.637056  POINT (4.46337694 51.19331943)\n",
       "1  38.844720  POINT (4.40763586 51.20584495)\n",
       "2  17.600972   POINT (4.4136976 51.22055294)\n",
       "3  45.431083    POINT (4.3931128 51.2134349)\n",
       "4  29.334421  POINT (4.44625811 51.20108353)"
      ]
     },
     "execution_count": 5,
     "metadata": {},
     "output_type": "execute_result"
    }
   ],
   "source": [
    "gdf.head()"
   ]
  },
  {
   "cell_type": "code",
   "execution_count": 6,
   "metadata": {
    "collapsed": true
   },
   "outputs": [],
   "source": [
    "def to_gpx(gdf, fpath=None):\n",
    "    \"\"\"\n",
    "    Only for Points for now\n",
    "    \"\"\"\n",
    "    \n",
    "    import gpxpy.gpx\n",
    "    \n",
    "    geoms = gdf.geometry\n",
    "    \n",
    "    gpx = gpxpy.gpx.GPX()\n",
    "    wps = []\n",
    "    \n",
    "    for p in geoms:\n",
    "        wps.append(gpxpy.gpx.GPXWaypoint(latitude=p.y, longitude=p.x))\n",
    "    \n",
    "    gpx.waypoints.extend(wps)\n",
    "    \n",
    "    if fpath is None:\n",
    "        return gpx.to_xml()\n",
    "    else:\n",
    "        with open(fpath, 'w') as f:\n",
    "            f.write(gpx.to_xml())"
   ]
  },
  {
   "cell_type": "markdown",
   "metadata": {},
   "source": [
    "    lager dan 25: donker groen\n",
    "    25-30: licht groen\n",
    "    31-35: geel\n",
    "    36-40: licht oranje\n",
    "    41-45: midden oranje\n",
    "    46-50: donker oranje\n",
    "    51-55: licht rood\n",
    "    56-60: midden rood\n",
    "    61-65: donker rood\n",
    "    hoger dan 65: zwart"
   ]
  },
  {
   "cell_type": "code",
   "execution_count": 22,
   "metadata": {
    "collapsed": true
   },
   "outputs": [],
   "source": [
    "check = []"
   ]
  },
  {
   "cell_type": "code",
   "execution_count": 23,
   "metadata": {
    "collapsed": false
   },
   "outputs": [],
   "source": [
    "temp = gdf[gdf['mean'] < 25]\n",
    "to_gpx(temp, 'curieuzeneuzen-25.gpx')\n",
    "check.append(len(temp))"
   ]
  },
  {
   "cell_type": "code",
   "execution_count": 24,
   "metadata": {
    "collapsed": false
   },
   "outputs": [],
   "source": [
    "for i, j in zip(range(25,65,5), range(30,70,5)):\n",
    "    temp = gdf[(gdf['mean'] >= i) & (gdf['mean'] < j)]\n",
    "    to_gpx(temp, 'curieuzeneuzen-{0}-{1}.gpx'.format(i, j))\n",
    "    check.append(len(temp))"
   ]
  },
  {
   "cell_type": "code",
   "execution_count": 25,
   "metadata": {
    "collapsed": true
   },
   "outputs": [],
   "source": [
    "temp = gdf[gdf['mean'] >= 65]\n",
    "to_gpx(temp, 'curieuzeneuzen-65.gpx')\n",
    "check.append(len(temp))"
   ]
  },
  {
   "cell_type": "code",
   "execution_count": 28,
   "metadata": {
    "collapsed": false
   },
   "outputs": [],
   "source": [
    "assert sum(check) == len(gdf['mean'])"
   ]
  },
  {
   "cell_type": "code",
   "execution_count": null,
   "metadata": {
    "collapsed": true
   },
   "outputs": [],
   "source": []
  }
 ],
 "metadata": {
  "kernelspec": {
   "display_name": "Python 3 (geo)",
   "language": "python",
   "name": "geo"
  },
  "language_info": {
   "codemirror_mode": {
    "name": "ipython",
    "version": 3
   },
   "file_extension": ".py",
   "mimetype": "text/x-python",
   "name": "python",
   "nbconvert_exporter": "python",
   "pygments_lexer": "ipython3",
   "version": "3.4.4"
  }
 },
 "nbformat": 4,
 "nbformat_minor": 0
}
